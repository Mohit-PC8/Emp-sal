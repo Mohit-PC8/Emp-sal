{
  "nbformat": 4,
  "nbformat_minor": 0,
  "metadata": {
    "colab": {
      "provenance": []
    },
    "kernelspec": {
      "name": "python3",
      "display_name": "Python 3"
    },
    "language_info": {
      "name": "python"
    }
  },
  "cells": [
    {
      "cell_type": "code",
      "execution_count": null,
      "metadata": {
        "colab": {
          "base_uri": "https://localhost:8080/"
        },
        "id": "H0uksg2tymUJ",
        "outputId": "b2e124c3-4347-42ab-d8a4-1db5c7e7cfba"
      },
      "outputs": [
        {
          "output_type": "stream",
          "name": "stdout",
          "text": [
            "\u001b[2K     \u001b[90m━━━━━━━━━━━━━━━━━━━━━━━━━━━━━━━━━━━━━━━━\u001b[0m \u001b[32m44.3/44.3 kB\u001b[0m \u001b[31m1.9 MB/s\u001b[0m eta \u001b[36m0:00:00\u001b[0m\n",
            "\u001b[2K   \u001b[90m━━━━━━━━━━━━━━━━━━━━━━━━━━━━━━━━━━━━━━━━\u001b[0m \u001b[32m99.2/99.2 MB\u001b[0m \u001b[31m8.0 MB/s\u001b[0m eta \u001b[36m0:00:00\u001b[0m\n",
            "\u001b[2K   \u001b[90m━━━━━━━━━━━━━━━━━━━━━━━━━━━━━━━━━━━━━━━━\u001b[0m \u001b[32m9.9/9.9 MB\u001b[0m \u001b[31m77.5 MB/s\u001b[0m eta \u001b[36m0:00:00\u001b[0m\n",
            "\u001b[2K   \u001b[90m━━━━━━━━━━━━━━━━━━━━━━━━━━━━━━━━━━━━━━━━\u001b[0m \u001b[32m6.9/6.9 MB\u001b[0m \u001b[31m101.2 MB/s\u001b[0m eta \u001b[36m0:00:00\u001b[0m\n",
            "\u001b[2K   \u001b[90m━━━━━━━━━━━━━━━━━━━━━━━━━━━━━━━━━━━━━━━━\u001b[0m \u001b[32m79.1/79.1 kB\u001b[0m \u001b[31m6.7 MB/s\u001b[0m eta \u001b[36m0:00:00\u001b[0m\n",
            "\u001b[?25hR² Score: 0.9857\n",
            "RMSE: 6239\n",
            "Model saved successfully!\n"
          ]
        }
      ],
      "source": [
        "# salary_prediction_model.ipynb\n",
        "# Install required libraries\n",
        "!pip install pandas numpy scikit-learn catboost streamlit --quiet\n",
        "\n",
        "import pandas as pd\n",
        "import numpy as np\n",
        "from sklearn.model_selection import train_test_split\n",
        "from sklearn.metrics import r2_score, mean_squared_error\n",
        "from catboost import CatBoostRegressor\n",
        "import joblib\n",
        "\n",
        "# Load and clean data\n",
        "df = pd.read_csv('Salary_Data.csv')\n",
        "df = df.dropna()\n",
        "df = df[df['Salary'] > 10000]  # Remove obvious outliers\n",
        "\n",
        "# Feature engineering\n",
        "df['Years of Experience'] = df['Years of Experience'].astype(float)\n",
        "df['Seniority'] = df['Job Title'].apply(lambda x: 1 if 'senior' in x.lower() else 0)\n",
        "df['Management'] = df['Job Title'].apply(lambda x: 1 if any(word in x.lower() for word in ['manager', 'director', 'vp', 'head', 'chief']) else 0)\n",
        "\n",
        "# Preprocessing\n",
        "X = df[['Age', 'Gender', 'Education Level', 'Job Title', 'Years of Experience', 'Seniority', 'Management']]\n",
        "y = df['Salary']\n",
        "\n",
        "# Train-test split\n",
        "X_train, X_test, y_train, y_test = train_test_split(X, y, test_size=0.2, random_state=42)\n",
        "\n",
        "# Initialize and train model\n",
        "model = CatBoostRegressor(\n",
        "    iterations=1500,\n",
        "    learning_rate=0.05,\n",
        "    depth=8,\n",
        "    cat_features=['Gender', 'Education Level', 'Job Title'],\n",
        "    verbose=0\n",
        ")\n",
        "model.fit(X_train, y_train)\n",
        "\n",
        "# Evaluate model\n",
        "preds = model.predict(X_test)\n",
        "r2 = r2_score(y_test, preds)\n",
        "rmse = np.sqrt(mean_squared_error(y_test, preds))\n",
        "print(f\"R² Score: {r2:.4f}\")\n",
        "print(f\"RMSE: {rmse:.0f}\")\n",
        "\n",
        "# Save model\n",
        "joblib.dump(model, 'salary_model.pkl')\n",
        "print(\"Model saved successfully!\")"
      ]
    },
    {
      "cell_type": "code",
      "source": [
        "# app.py\n",
        "import streamlit as st\n",
        "import pandas as pd\n",
        "import joblib\n",
        "\n",
        "# Load model\n",
        "model = joblib.load('salary_model.pkl')\n",
        "\n",
        "# Title\n",
        "st.title(\"💰 Employee Salary Predictor\")\n",
        "st.subheader(\"Predict salaries based on employee characteristics\")\n",
        "\n",
        "# Input form\n",
        "with st.form(\"salary_form\"):\n",
        "    age = st.number_input(\"Age\", min_value=18, max_value=70, value=30)\n",
        "    gender = st.selectbox(\"Gender\", [\"Male\", \"Female\"])\n",
        "    education = st.selectbox(\"Education Level\", [\"Bachelor's\", \"Master's\", \"PhD\"])\n",
        "    job_title = st.text_input(\"Job Title\", \"Software Engineer\")\n",
        "    experience = st.slider(\"Years of Experience\", 0.0, 30.0, 5.0)\n",
        "\n",
        "    # Feature engineering\n",
        "    seniority = 1 if 'senior' in job_title.lower() else 0\n",
        "    management = 1 if any(word in job_title.lower() for word in ['manager', 'director', 'vp', 'head', 'chief']) else 0\n",
        "\n",
        "    submitted = st.form_submit_button(\"Predict Salary\")\n",
        "\n",
        "    if submitted:\n",
        "        input_data = pd.DataFrame({\n",
        "            'Age': [age],\n",
        "            'Gender': [gender],\n",
        "            'Education Level': [education],\n",
        "            'Job Title': [job_title],\n",
        "            'Years of Experience': [experience],\n",
        "            'Seniority': [seniority],\n",
        "            'Management': [management]\n",
        "        })\n",
        "\n",
        "        prediction = model.predict(input_data)[0]\n",
        "        st.success(f\"Predicted Salary: ${prediction:,.2f}\")\n",
        "\n",
        "# Instructions\n",
        "st.markdown(\"\"\"\n",
        "### Instructions\n",
        "1. Fill in all employee details\n",
        "2. Click 'Predict Salary'\n",
        "3. Job titles should be specific (e.g. 'Senior Software Engineer')\n",
        "\"\"\")"
      ],
      "metadata": {
        "id": "VcdFGM_EzGsU",
        "outputId": "12e02fda-90c0-42e2-887a-e5482c1a3462",
        "colab": {
          "base_uri": "https://localhost:8080/"
        }
      },
      "execution_count": null,
      "outputs": [
        {
          "output_type": "stream",
          "name": "stderr",
          "text": [
            "2025-07-18 09:10:25.437 WARNING streamlit.runtime.scriptrunner_utils.script_run_context: Thread 'MainThread': missing ScriptRunContext! This warning can be ignored when running in bare mode.\n",
            "2025-07-18 09:10:26.291 \n",
            "  \u001b[33m\u001b[1mWarning:\u001b[0m to view this Streamlit app on a browser, run it with the following\n",
            "  command:\n",
            "\n",
            "    streamlit run /usr/local/lib/python3.11/dist-packages/colab_kernel_launcher.py [ARGUMENTS]\n",
            "2025-07-18 09:10:26.293 Thread 'MainThread': missing ScriptRunContext! This warning can be ignored when running in bare mode.\n",
            "2025-07-18 09:10:26.295 Thread 'MainThread': missing ScriptRunContext! This warning can be ignored when running in bare mode.\n",
            "2025-07-18 09:10:26.299 Thread 'MainThread': missing ScriptRunContext! This warning can be ignored when running in bare mode.\n",
            "2025-07-18 09:10:26.303 Thread 'MainThread': missing ScriptRunContext! This warning can be ignored when running in bare mode.\n",
            "2025-07-18 09:10:26.304 Thread 'MainThread': missing ScriptRunContext! This warning can be ignored when running in bare mode.\n",
            "2025-07-18 09:10:26.306 Thread 'MainThread': missing ScriptRunContext! This warning can be ignored when running in bare mode.\n",
            "2025-07-18 09:10:26.308 Thread 'MainThread': missing ScriptRunContext! This warning can be ignored when running in bare mode.\n",
            "2025-07-18 09:10:26.310 Thread 'MainThread': missing ScriptRunContext! This warning can be ignored when running in bare mode.\n",
            "2025-07-18 09:10:26.311 Thread 'MainThread': missing ScriptRunContext! This warning can be ignored when running in bare mode.\n",
            "2025-07-18 09:10:26.313 Thread 'MainThread': missing ScriptRunContext! This warning can be ignored when running in bare mode.\n",
            "2025-07-18 09:10:26.313 Thread 'MainThread': missing ScriptRunContext! This warning can be ignored when running in bare mode.\n",
            "2025-07-18 09:10:26.316 Session state does not function when running a script without `streamlit run`\n",
            "2025-07-18 09:10:26.318 Thread 'MainThread': missing ScriptRunContext! This warning can be ignored when running in bare mode.\n",
            "2025-07-18 09:10:26.319 Thread 'MainThread': missing ScriptRunContext! This warning can be ignored when running in bare mode.\n",
            "2025-07-18 09:10:26.344 Thread 'MainThread': missing ScriptRunContext! This warning can be ignored when running in bare mode.\n",
            "2025-07-18 09:10:26.345 Thread 'MainThread': missing ScriptRunContext! This warning can be ignored when running in bare mode.\n",
            "2025-07-18 09:10:26.345 Thread 'MainThread': missing ScriptRunContext! This warning can be ignored when running in bare mode.\n",
            "2025-07-18 09:10:26.348 Thread 'MainThread': missing ScriptRunContext! This warning can be ignored when running in bare mode.\n",
            "2025-07-18 09:10:26.354 Thread 'MainThread': missing ScriptRunContext! This warning can be ignored when running in bare mode.\n",
            "2025-07-18 09:10:26.358 Thread 'MainThread': missing ScriptRunContext! This warning can be ignored when running in bare mode.\n",
            "2025-07-18 09:10:26.358 Thread 'MainThread': missing ScriptRunContext! This warning can be ignored when running in bare mode.\n",
            "2025-07-18 09:10:26.360 Thread 'MainThread': missing ScriptRunContext! This warning can be ignored when running in bare mode.\n",
            "2025-07-18 09:10:26.360 Thread 'MainThread': missing ScriptRunContext! This warning can be ignored when running in bare mode.\n",
            "2025-07-18 09:10:26.362 Thread 'MainThread': missing ScriptRunContext! This warning can be ignored when running in bare mode.\n",
            "2025-07-18 09:10:26.362 Thread 'MainThread': missing ScriptRunContext! This warning can be ignored when running in bare mode.\n",
            "2025-07-18 09:10:26.365 Thread 'MainThread': missing ScriptRunContext! This warning can be ignored when running in bare mode.\n",
            "2025-07-18 09:10:26.366 Thread 'MainThread': missing ScriptRunContext! This warning can be ignored when running in bare mode.\n",
            "2025-07-18 09:10:26.368 Thread 'MainThread': missing ScriptRunContext! This warning can be ignored when running in bare mode.\n",
            "2025-07-18 09:10:26.371 Thread 'MainThread': missing ScriptRunContext! This warning can be ignored when running in bare mode.\n",
            "2025-07-18 09:10:26.376 Thread 'MainThread': missing ScriptRunContext! This warning can be ignored when running in bare mode.\n",
            "2025-07-18 09:10:26.376 Thread 'MainThread': missing ScriptRunContext! This warning can be ignored when running in bare mode.\n",
            "2025-07-18 09:10:26.377 Thread 'MainThread': missing ScriptRunContext! This warning can be ignored when running in bare mode.\n",
            "2025-07-18 09:10:26.381 Thread 'MainThread': missing ScriptRunContext! This warning can be ignored when running in bare mode.\n",
            "2025-07-18 09:10:26.388 Thread 'MainThread': missing ScriptRunContext! This warning can be ignored when running in bare mode.\n",
            "2025-07-18 09:10:26.388 Thread 'MainThread': missing ScriptRunContext! This warning can be ignored when running in bare mode.\n",
            "2025-07-18 09:10:26.392 Thread 'MainThread': missing ScriptRunContext! This warning can be ignored when running in bare mode.\n",
            "2025-07-18 09:10:26.392 Thread 'MainThread': missing ScriptRunContext! This warning can be ignored when running in bare mode.\n",
            "2025-07-18 09:10:26.393 Thread 'MainThread': missing ScriptRunContext! This warning can be ignored when running in bare mode.\n",
            "2025-07-18 09:10:26.396 Thread 'MainThread': missing ScriptRunContext! This warning can be ignored when running in bare mode.\n",
            "2025-07-18 09:10:26.396 Thread 'MainThread': missing ScriptRunContext! This warning can be ignored when running in bare mode.\n",
            "2025-07-18 09:10:26.402 Thread 'MainThread': missing ScriptRunContext! This warning can be ignored when running in bare mode.\n",
            "2025-07-18 09:10:26.402 Thread 'MainThread': missing ScriptRunContext! This warning can be ignored when running in bare mode.\n",
            "2025-07-18 09:10:26.407 Thread 'MainThread': missing ScriptRunContext! This warning can be ignored when running in bare mode.\n",
            "2025-07-18 09:10:26.409 Thread 'MainThread': missing ScriptRunContext! This warning can be ignored when running in bare mode.\n",
            "2025-07-18 09:10:26.409 Thread 'MainThread': missing ScriptRunContext! This warning can be ignored when running in bare mode.\n",
            "2025-07-18 09:10:26.412 Thread 'MainThread': missing ScriptRunContext! This warning can be ignored when running in bare mode.\n",
            "2025-07-18 09:10:26.413 Thread 'MainThread': missing ScriptRunContext! This warning can be ignored when running in bare mode.\n",
            "2025-07-18 09:10:26.417 Thread 'MainThread': missing ScriptRunContext! This warning can be ignored when running in bare mode.\n",
            "2025-07-18 09:10:26.418 Thread 'MainThread': missing ScriptRunContext! This warning can be ignored when running in bare mode.\n",
            "2025-07-18 09:10:26.418 Thread 'MainThread': missing ScriptRunContext! This warning can be ignored when running in bare mode.\n",
            "2025-07-18 09:10:26.423 Thread 'MainThread': missing ScriptRunContext! This warning can be ignored when running in bare mode.\n"
          ]
        },
        {
          "output_type": "execute_result",
          "data": {
            "text/plain": [
              "DeltaGenerator(_form_data=FormData(form_id='salary_form'))"
            ]
          },
          "metadata": {},
          "execution_count": 2
        }
      ]
    },
    {
      "cell_type": "code",
      "source": [
        "# Sanity check: simulate same input in code\n",
        "input_test = pd.DataFrame({\n",
        "    'Age': [24],\n",
        "    'Gender': ['Male'],\n",
        "    'Education Level': [\"Bachelor's\"],\n",
        "    'Job Title': ['Software Engineer'],\n",
        "    'Years of Experience': [3.0],\n",
        "    'Seniority': [0],\n",
        "    'Management': [0]\n",
        "})\n",
        "\n",
        "print(model.predict(input_test))\n"
      ],
      "metadata": {
        "id": "HStAfRms6kZQ",
        "outputId": "552972ed-b40f-4231-f814-d53d2df88096",
        "colab": {
          "base_uri": "https://localhost:8080/"
        }
      },
      "execution_count": null,
      "outputs": [
        {
          "output_type": "stream",
          "name": "stdout",
          "text": [
            "[121752.46836079]\n"
          ]
        }
      ]
    }
  ]
}